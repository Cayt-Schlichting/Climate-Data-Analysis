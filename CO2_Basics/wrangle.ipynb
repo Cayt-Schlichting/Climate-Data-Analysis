{
 "cells": [
  {
   "attachments": {},
   "cell_type": "markdown",
   "id": "6e0830a6",
   "metadata": {},
   "source": [
    "This notebook is intended to look into the CO2 readings from the Mauna Loa Observatory, provided by the [Scripps CO2 Program](https://scrippsco2.ucsd.edu/data/atmospheric_co2/mlo.html).\n",
    "\n",
    "**SOURCE:** \n",
    "\n",
    "C. D. Keeling, S. C. Piper, R. B. Bacastow, M. Wahlen, T. P. Whorf, M. Heimann, and H. A. Meijer, Exchanges of atmospheric CO2 and 13CO2 with the terrestrial biosphere and oceans from 1978 to 2000.  I. Global aspects, SIO Reference Series, No. 01-06, Scripps Institution of Oceanography, San Diego, 88 pages, 2001."
   ]
  },
  {
   "cell_type": "code",
   "execution_count": 1,
   "id": "3db9c094",
   "metadata": {},
   "outputs": [],
   "source": [
    "import numpy as np\n",
    "import pandas as pd\n",
    "\n",
    "import matplotlib.pyplot as plt\n",
    "import seaborn as sns"
   ]
  },
  {
   "cell_type": "markdown",
   "id": "01849727",
   "metadata": {},
   "source": [
    "## Acquisition\n",
    "\n",
    "This data was acquired from the [Scripps CO2 Program](https://scrippsco2.ucsd.edu/data/atmospheric_co2/mlo.html).  For now, this report and supporting workbooks will use a csv and that file will be provided on Github.  \n",
    "\n",
    "Originally I was going to use the **Daily** dataset in order to use more resampling methods and preparation, but per the metadata, it recommmends use of **weekly** or **monthly** datasets for long term variability.\n",
    "\n",
    "Future acquisition options: **time permitting**\n",
    "- **Downloading directly** is complicated by the metadata format of the CSV.  The creator appropriately marks metadata with a % sign so that it can be removed during a read function.  However, the header column also has that % sign. So my options are:\n",
    "  1. Hard code the **header** start line\n",
    "    - Any changes in the metadata line count will result in errors (at a minimum I will no longer get column names)\n",
    "  2. Use the **comment** parameter, then manually provide column names\n",
    "    - This is fine until they change the columns - which I would consider less likely than changing the metadata\n",
    "  3. Make a fancy function\n",
    "    - Do an initial read of the file to count the number of lines with % signs\n",
    "      - May not work as they use different column widths...so either need index pulled in or a way to just pull the first column\n",
    "    - Use that final comment row # to pass into a new read_sql as the header line\n",
    "    \n",
    "**Direct Link to csv:** https://scrippsco2.ucsd.edu/assets/data/atmospheric/stations/in_situ_co2/weekly/weekly_in_situ_co2_mlo.csv\n"
   ]
  },
  {
   "cell_type": "markdown",
   "id": "5aa3739f",
   "metadata": {},
   "source": [
    "##### Using Data downloaded on 28JUN2022\n"
   ]
  },
  {
   "cell_type": "code",
   "execution_count": 2,
   "id": "ddb5f212",
   "metadata": {},
   "outputs": [],
   "source": [
    "#glancing at the CSV, the data starts on line 45 (only metadata above)\n",
    "# -1 for zero index, -1 since column names manually based\n",
    "df = pd.read_csv(\"weekly_in_situ_co2_mlo_28JUN2022.csv\",header=43,names=['date','co2'])"
   ]
  },
  {
   "cell_type": "code",
   "execution_count": 3,
   "id": "f0f5d87d",
   "metadata": {},
   "outputs": [
    {
     "name": "stdout",
     "output_type": "stream",
     "text": [
      "<class 'pandas.core.frame.DataFrame'>\n",
      "RangeIndex: 3277 entries, 0 to 3276\n",
      "Data columns (total 2 columns):\n",
      " #   Column  Non-Null Count  Dtype  \n",
      "---  ------  --------------  -----  \n",
      " 0   date    3277 non-null   object \n",
      " 1   co2     3277 non-null   float64\n",
      "dtypes: float64(1), object(1)\n",
      "memory usage: 51.3+ KB\n"
     ]
    }
   ],
   "source": [
    "df.info() #23557 - grabs headers"
   ]
  },
  {
   "cell_type": "code",
   "execution_count": 4,
   "id": "5b5cbfaa",
   "metadata": {},
   "outputs": [
    {
     "data": {
      "text/html": [
       "<div>\n",
       "<style scoped>\n",
       "    .dataframe tbody tr th:only-of-type {\n",
       "        vertical-align: middle;\n",
       "    }\n",
       "\n",
       "    .dataframe tbody tr th {\n",
       "        vertical-align: top;\n",
       "    }\n",
       "\n",
       "    .dataframe thead th {\n",
       "        text-align: right;\n",
       "    }\n",
       "</style>\n",
       "<table border=\"1\" class=\"dataframe\">\n",
       "  <thead>\n",
       "    <tr style=\"text-align: right;\">\n",
       "      <th></th>\n",
       "      <th>date</th>\n",
       "      <th>co2</th>\n",
       "    </tr>\n",
       "  </thead>\n",
       "  <tbody>\n",
       "    <tr>\n",
       "      <th>0</th>\n",
       "      <td>1958-03-29</td>\n",
       "      <td>316.19</td>\n",
       "    </tr>\n",
       "    <tr>\n",
       "      <th>1</th>\n",
       "      <td>1958-04-05</td>\n",
       "      <td>317.31</td>\n",
       "    </tr>\n",
       "    <tr>\n",
       "      <th>2</th>\n",
       "      <td>1958-04-12</td>\n",
       "      <td>317.69</td>\n",
       "    </tr>\n",
       "    <tr>\n",
       "      <th>3</th>\n",
       "      <td>1958-04-19</td>\n",
       "      <td>317.58</td>\n",
       "    </tr>\n",
       "    <tr>\n",
       "      <th>4</th>\n",
       "      <td>1958-04-26</td>\n",
       "      <td>316.48</td>\n",
       "    </tr>\n",
       "  </tbody>\n",
       "</table>\n",
       "</div>"
      ],
      "text/plain": [
       "         date     co2\n",
       "0  1958-03-29  316.19\n",
       "1  1958-04-05  317.31\n",
       "2  1958-04-12  317.69\n",
       "3  1958-04-19  317.58\n",
       "4  1958-04-26  316.48"
      ]
     },
     "execution_count": 4,
     "metadata": {},
     "output_type": "execute_result"
    }
   ],
   "source": [
    "#first row should be 3/39/59\n",
    "df.head()"
   ]
  },
  {
   "cell_type": "code",
   "execution_count": 5,
   "id": "ba2484d4",
   "metadata": {},
   "outputs": [
    {
     "data": {
      "text/html": [
       "<div>\n",
       "<style scoped>\n",
       "    .dataframe tbody tr th:only-of-type {\n",
       "        vertical-align: middle;\n",
       "    }\n",
       "\n",
       "    .dataframe tbody tr th {\n",
       "        vertical-align: top;\n",
       "    }\n",
       "\n",
       "    .dataframe thead th {\n",
       "        text-align: right;\n",
       "    }\n",
       "</style>\n",
       "<table border=\"1\" class=\"dataframe\">\n",
       "  <thead>\n",
       "    <tr style=\"text-align: right;\">\n",
       "      <th></th>\n",
       "      <th>date</th>\n",
       "      <th>co2</th>\n",
       "    </tr>\n",
       "  </thead>\n",
       "  <tbody>\n",
       "    <tr>\n",
       "      <th>3272</th>\n",
       "      <td>2022-04-30</td>\n",
       "      <td>419.81</td>\n",
       "    </tr>\n",
       "    <tr>\n",
       "      <th>3273</th>\n",
       "      <td>2022-05-07</td>\n",
       "      <td>419.64</td>\n",
       "    </tr>\n",
       "    <tr>\n",
       "      <th>3274</th>\n",
       "      <td>2022-05-14</td>\n",
       "      <td>421.36</td>\n",
       "    </tr>\n",
       "    <tr>\n",
       "      <th>3275</th>\n",
       "      <td>2022-05-21</td>\n",
       "      <td>420.55</td>\n",
       "    </tr>\n",
       "    <tr>\n",
       "      <th>3276</th>\n",
       "      <td>2022-05-28</td>\n",
       "      <td>421.34</td>\n",
       "    </tr>\n",
       "  </tbody>\n",
       "</table>\n",
       "</div>"
      ],
      "text/plain": [
       "            date     co2\n",
       "3272  2022-04-30  419.81\n",
       "3273  2022-05-07  419.64\n",
       "3274  2022-05-14  421.36\n",
       "3275  2022-05-21  420.55\n",
       "3276  2022-05-28  421.34"
      ]
     },
     "execution_count": 5,
     "metadata": {},
     "output_type": "execute_result"
    }
   ],
   "source": [
    "df.tail()"
   ]
  },
  {
   "cell_type": "markdown",
   "id": "485f6cc2",
   "metadata": {},
   "source": [
    "## Preparation"
   ]
  },
  {
   "cell_type": "code",
   "execution_count": 6,
   "id": "1f1ed193",
   "metadata": {},
   "outputs": [
    {
     "data": {
      "text/plain": [
       "<AxesSubplot:>"
      ]
     },
     "execution_count": 6,
     "metadata": {},
     "output_type": "execute_result"
    },
    {
     "data": {
      "image/png": "[encoded data removed]",
      "text/plain": [
       "<Figure size 432x288 with 1 Axes>"
      ]
     },
     "metadata": {
      "needs_background": "light"
     },
     "output_type": "display_data"
    }
   ],
   "source": [
    "df.co2.hist()"
   ]
  },
  {
   "cell_type": "code",
   "execution_count": 7,
   "id": "b5835b4e",
   "metadata": {},
   "outputs": [
    {
     "data": {
      "text/plain": [
       "0.0"
      ]
     },
     "execution_count": 7,
     "metadata": {},
     "output_type": "execute_result"
    }
   ],
   "source": [
    "df.co2.isna().mean()"
   ]
  },
  {
   "cell_type": "code",
   "execution_count": 8,
   "id": "12c03b72",
   "metadata": {},
   "outputs": [
    {
     "data": {
      "text/html": [
       "<div>\n",
       "<style scoped>\n",
       "    .dataframe tbody tr th:only-of-type {\n",
       "        vertical-align: middle;\n",
       "    }\n",
       "\n",
       "    .dataframe tbody tr th {\n",
       "        vertical-align: top;\n",
       "    }\n",
       "\n",
       "    .dataframe thead th {\n",
       "        text-align: right;\n",
       "    }\n",
       "</style>\n",
       "<table border=\"1\" class=\"dataframe\">\n",
       "  <thead>\n",
       "    <tr style=\"text-align: right;\">\n",
       "      <th></th>\n",
       "      <th>date</th>\n",
       "      <th>co2</th>\n",
       "    </tr>\n",
       "  </thead>\n",
       "  <tbody>\n",
       "    <tr>\n",
       "      <th>0</th>\n",
       "      <td>1958-03-29</td>\n",
       "      <td>316.19</td>\n",
       "    </tr>\n",
       "    <tr>\n",
       "      <th>1</th>\n",
       "      <td>1958-04-05</td>\n",
       "      <td>317.31</td>\n",
       "    </tr>\n",
       "    <tr>\n",
       "      <th>2</th>\n",
       "      <td>1958-04-12</td>\n",
       "      <td>317.69</td>\n",
       "    </tr>\n",
       "    <tr>\n",
       "      <th>3</th>\n",
       "      <td>1958-04-19</td>\n",
       "      <td>317.58</td>\n",
       "    </tr>\n",
       "    <tr>\n",
       "      <th>4</th>\n",
       "      <td>1958-04-26</td>\n",
       "      <td>316.48</td>\n",
       "    </tr>\n",
       "    <tr>\n",
       "      <th>5</th>\n",
       "      <td>1958-05-03</td>\n",
       "      <td>316.95</td>\n",
       "    </tr>\n",
       "    <tr>\n",
       "      <th>6</th>\n",
       "      <td>1958-05-17</td>\n",
       "      <td>317.56</td>\n",
       "    </tr>\n",
       "    <tr>\n",
       "      <th>7</th>\n",
       "      <td>1958-05-24</td>\n",
       "      <td>317.99</td>\n",
       "    </tr>\n",
       "    <tr>\n",
       "      <th>8</th>\n",
       "      <td>1958-07-05</td>\n",
       "      <td>315.85</td>\n",
       "    </tr>\n",
       "    <tr>\n",
       "      <th>9</th>\n",
       "      <td>1958-07-12</td>\n",
       "      <td>315.85</td>\n",
       "    </tr>\n",
       "    <tr>\n",
       "      <th>10</th>\n",
       "      <td>1958-07-19</td>\n",
       "      <td>315.46</td>\n",
       "    </tr>\n",
       "    <tr>\n",
       "      <th>11</th>\n",
       "      <td>1958-07-26</td>\n",
       "      <td>315.59</td>\n",
       "    </tr>\n",
       "    <tr>\n",
       "      <th>12</th>\n",
       "      <td>1958-08-02</td>\n",
       "      <td>315.64</td>\n",
       "    </tr>\n",
       "    <tr>\n",
       "      <th>13</th>\n",
       "      <td>1958-08-09</td>\n",
       "      <td>315.10</td>\n",
       "    </tr>\n",
       "    <tr>\n",
       "      <th>14</th>\n",
       "      <td>1958-08-16</td>\n",
       "      <td>315.09</td>\n",
       "    </tr>\n",
       "    <tr>\n",
       "      <th>15</th>\n",
       "      <td>1958-08-30</td>\n",
       "      <td>314.14</td>\n",
       "    </tr>\n",
       "    <tr>\n",
       "      <th>16</th>\n",
       "      <td>1958-09-06</td>\n",
       "      <td>313.54</td>\n",
       "    </tr>\n",
       "    <tr>\n",
       "      <th>17</th>\n",
       "      <td>1958-11-08</td>\n",
       "      <td>313.05</td>\n",
       "    </tr>\n",
       "    <tr>\n",
       "      <th>18</th>\n",
       "      <td>1958-11-15</td>\n",
       "      <td>313.26</td>\n",
       "    </tr>\n",
       "    <tr>\n",
       "      <th>19</th>\n",
       "      <td>1958-11-22</td>\n",
       "      <td>313.57</td>\n",
       "    </tr>\n",
       "  </tbody>\n",
       "</table>\n",
       "</div>"
      ],
      "text/plain": [
       "          date     co2\n",
       "0   1958-03-29  316.19\n",
       "1   1958-04-05  317.31\n",
       "2   1958-04-12  317.69\n",
       "3   1958-04-19  317.58\n",
       "4   1958-04-26  316.48\n",
       "5   1958-05-03  316.95\n",
       "6   1958-05-17  317.56\n",
       "7   1958-05-24  317.99\n",
       "8   1958-07-05  315.85\n",
       "9   1958-07-12  315.85\n",
       "10  1958-07-19  315.46\n",
       "11  1958-07-26  315.59\n",
       "12  1958-08-02  315.64\n",
       "13  1958-08-09  315.10\n",
       "14  1958-08-16  315.09\n",
       "15  1958-08-30  314.14\n",
       "16  1958-09-06  313.54\n",
       "17  1958-11-08  313.05\n",
       "18  1958-11-15  313.26\n",
       "19  1958-11-22  313.57"
      ]
     },
     "execution_count": 8,
     "metadata": {},
     "output_type": "execute_result"
    }
   ],
   "source": [
    "df.head(20)"
   ]
  },
  {
   "cell_type": "markdown",
   "id": "783b510f",
   "metadata": {},
   "source": [
    "**Notes:** Some missing weeks.  Convert to datetime and look at differences"
   ]
  },
  {
   "cell_type": "code",
   "execution_count": 9,
   "id": "fea07151",
   "metadata": {},
   "outputs": [],
   "source": [
    "df['date'] = pd.to_datetime(df.date,format=\"%Y-%m-%d\")"
   ]
  },
  {
   "cell_type": "code",
   "execution_count": 10,
   "id": "22b158c9",
   "metadata": {},
   "outputs": [
    {
     "name": "stdout",
     "output_type": "stream",
     "text": [
      "<class 'pandas.core.frame.DataFrame'>\n",
      "RangeIndex: 3277 entries, 0 to 3276\n",
      "Data columns (total 2 columns):\n",
      " #   Column  Non-Null Count  Dtype         \n",
      "---  ------  --------------  -----         \n",
      " 0   date    3277 non-null   datetime64[ns]\n",
      " 1   co2     3277 non-null   float64       \n",
      "dtypes: datetime64[ns](1), float64(1)\n",
      "memory usage: 51.3 KB\n"
     ]
    }
   ],
   "source": [
    "df.info()"
   ]
  },
  {
   "cell_type": "code",
   "execution_count": 11,
   "id": "df56fe84",
   "metadata": {},
   "outputs": [
    {
     "data": {
      "text/plain": [
       "0         NaT\n",
       "1      7 days\n",
       "2      7 days\n",
       "3      7 days\n",
       "4      7 days\n",
       "        ...  \n",
       "3272   7 days\n",
       "3273   7 days\n",
       "3274   7 days\n",
       "3275   7 days\n",
       "3276   7 days\n",
       "Name: date, Length: 3277, dtype: timedelta64[ns]"
      ]
     },
     "execution_count": 11,
     "metadata": {},
     "output_type": "execute_result"
    }
   ],
   "source": [
    "deltas = df.date.diff()\n",
    "deltas"
   ]
  },
  {
   "cell_type": "code",
   "execution_count": 12,
   "id": "a1b6b808",
   "metadata": {},
   "outputs": [
    {
     "data": {
      "text/plain": [
       "7 days      3247\n",
       "14 days       17\n",
       "21 days        5\n",
       "28 days        2\n",
       "35 days        2\n",
       "42 days        1\n",
       "63 days        1\n",
       "133 days       1\n",
       "Name: date, dtype: int64"
      ]
     },
     "execution_count": 12,
     "metadata": {},
     "output_type": "execute_result"
    }
   ],
   "source": [
    "deltas.value_counts()"
   ]
  },
  {
   "cell_type": "code",
   "execution_count": 13,
   "id": "e41f4f28",
   "metadata": {},
   "outputs": [
    {
     "data": {
      "text/plain": [
       "6       14 days\n",
       "8       42 days\n",
       "15      14 days\n",
       "17      63 days\n",
       "30      14 days\n",
       "34      14 days\n",
       "44      14 days\n",
       "54      14 days\n",
       "211     28 days\n",
       "226     14 days\n",
       "232     14 days\n",
       "242     14 days\n",
       "270     14 days\n",
       "278    133 days\n",
       "280     21 days\n",
       "286     14 days\n",
       "386     28 days\n",
       "399     14 days\n",
       "409     21 days\n",
       "899     14 days\n",
       "1303    35 days\n",
       "1369    14 days\n",
       "2300    14 days\n",
       "2316    21 days\n",
       "2386    35 days\n",
       "2432    21 days\n",
       "2480    14 days\n",
       "2776    21 days\n",
       "3154    14 days\n",
       "Name: date, dtype: timedelta64[ns]"
      ]
     },
     "execution_count": 13,
     "metadata": {},
     "output_type": "execute_result"
    }
   ],
   "source": [
    "#quite a few gaps, some of which are large\n",
    "#Look at where those are\n",
    "big_delta = deltas[deltas > \"7 days\"]\n",
    "big_delta"
   ]
  },
  {
   "cell_type": "code",
   "execution_count": 14,
   "id": "ef89c12a",
   "metadata": {},
   "outputs": [
    {
     "data": {
      "text/html": [
       "<div>\n",
       "<style scoped>\n",
       "    .dataframe tbody tr th:only-of-type {\n",
       "        vertical-align: middle;\n",
       "    }\n",
       "\n",
       "    .dataframe tbody tr th {\n",
       "        vertical-align: top;\n",
       "    }\n",
       "\n",
       "    .dataframe thead th {\n",
       "        text-align: right;\n",
       "    }\n",
       "</style>\n",
       "<table border=\"1\" class=\"dataframe\">\n",
       "  <thead>\n",
       "    <tr style=\"text-align: right;\">\n",
       "      <th></th>\n",
       "      <th>date</th>\n",
       "      <th>co2</th>\n",
       "    </tr>\n",
       "  </thead>\n",
       "  <tbody>\n",
       "    <tr>\n",
       "      <th>6</th>\n",
       "      <td>1958-05-17</td>\n",
       "      <td>317.56</td>\n",
       "    </tr>\n",
       "    <tr>\n",
       "      <th>8</th>\n",
       "      <td>1958-07-05</td>\n",
       "      <td>315.85</td>\n",
       "    </tr>\n",
       "    <tr>\n",
       "      <th>15</th>\n",
       "      <td>1958-08-30</td>\n",
       "      <td>314.14</td>\n",
       "    </tr>\n",
       "    <tr>\n",
       "      <th>17</th>\n",
       "      <td>1958-11-08</td>\n",
       "      <td>313.05</td>\n",
       "    </tr>\n",
       "    <tr>\n",
       "      <th>30</th>\n",
       "      <td>1959-02-14</td>\n",
       "      <td>316.94</td>\n",
       "    </tr>\n",
       "    <tr>\n",
       "      <th>34</th>\n",
       "      <td>1959-03-21</td>\n",
       "      <td>316.73</td>\n",
       "    </tr>\n",
       "    <tr>\n",
       "      <th>44</th>\n",
       "      <td>1959-06-06</td>\n",
       "      <td>318.53</td>\n",
       "    </tr>\n",
       "    <tr>\n",
       "      <th>54</th>\n",
       "      <td>1959-08-22</td>\n",
       "      <td>315.00</td>\n",
       "    </tr>\n",
       "    <tr>\n",
       "      <th>211</th>\n",
       "      <td>1962-09-15</td>\n",
       "      <td>316.65</td>\n",
       "    </tr>\n",
       "    <tr>\n",
       "      <th>226</th>\n",
       "      <td>1963-01-05</td>\n",
       "      <td>318.54</td>\n",
       "    </tr>\n",
       "    <tr>\n",
       "      <th>232</th>\n",
       "      <td>1963-02-23</td>\n",
       "      <td>319.37</td>\n",
       "    </tr>\n",
       "    <tr>\n",
       "      <th>242</th>\n",
       "      <td>1963-05-11</td>\n",
       "      <td>321.97</td>\n",
       "    </tr>\n",
       "    <tr>\n",
       "      <th>270</th>\n",
       "      <td>1963-11-30</td>\n",
       "      <td>317.56</td>\n",
       "    </tr>\n",
       "    <tr>\n",
       "      <th>278</th>\n",
       "      <td>1964-05-30</td>\n",
       "      <td>322.07</td>\n",
       "    </tr>\n",
       "    <tr>\n",
       "      <th>280</th>\n",
       "      <td>1964-06-27</td>\n",
       "      <td>321.57</td>\n",
       "    </tr>\n",
       "    <tr>\n",
       "      <th>286</th>\n",
       "      <td>1964-08-15</td>\n",
       "      <td>318.61</td>\n",
       "    </tr>\n",
       "    <tr>\n",
       "      <th>386</th>\n",
       "      <td>1966-08-06</td>\n",
       "      <td>321.31</td>\n",
       "    </tr>\n",
       "    <tr>\n",
       "      <th>399</th>\n",
       "      <td>1966-11-12</td>\n",
       "      <td>319.59</td>\n",
       "    </tr>\n",
       "    <tr>\n",
       "      <th>409</th>\n",
       "      <td>1967-02-04</td>\n",
       "      <td>322.19</td>\n",
       "    </tr>\n",
       "    <tr>\n",
       "      <th>899</th>\n",
       "      <td>1976-07-03</td>\n",
       "      <td>333.67</td>\n",
       "    </tr>\n",
       "    <tr>\n",
       "      <th>1303</th>\n",
       "      <td>1984-04-28</td>\n",
       "      <td>347.57</td>\n",
       "    </tr>\n",
       "    <tr>\n",
       "      <th>1369</th>\n",
       "      <td>1985-08-10</td>\n",
       "      <td>344.67</td>\n",
       "    </tr>\n",
       "    <tr>\n",
       "      <th>2300</th>\n",
       "      <td>2003-06-21</td>\n",
       "      <td>377.28</td>\n",
       "    </tr>\n",
       "    <tr>\n",
       "      <th>2316</th>\n",
       "      <td>2003-10-25</td>\n",
       "      <td>373.27</td>\n",
       "    </tr>\n",
       "    <tr>\n",
       "      <th>2386</th>\n",
       "      <td>2005-03-26</td>\n",
       "      <td>380.54</td>\n",
       "    </tr>\n",
       "    <tr>\n",
       "      <th>2432</th>\n",
       "      <td>2006-02-25</td>\n",
       "      <td>381.83</td>\n",
       "    </tr>\n",
       "    <tr>\n",
       "      <th>2480</th>\n",
       "      <td>2007-02-03</td>\n",
       "      <td>383.06</td>\n",
       "    </tr>\n",
       "    <tr>\n",
       "      <th>2776</th>\n",
       "      <td>2012-10-20</td>\n",
       "      <td>391.36</td>\n",
       "    </tr>\n",
       "    <tr>\n",
       "      <th>3154</th>\n",
       "      <td>2020-01-25</td>\n",
       "      <td>413.29</td>\n",
       "    </tr>\n",
       "  </tbody>\n",
       "</table>\n",
       "</div>"
      ],
      "text/plain": [
       "           date     co2\n",
       "6    1958-05-17  317.56\n",
       "8    1958-07-05  315.85\n",
       "15   1958-08-30  314.14\n",
       "17   1958-11-08  313.05\n",
       "30   1959-02-14  316.94\n",
       "34   1959-03-21  316.73\n",
       "44   1959-06-06  318.53\n",
       "54   1959-08-22  315.00\n",
       "211  1962-09-15  316.65\n",
       "226  1963-01-05  318.54\n",
       "232  1963-02-23  319.37\n",
       "242  1963-05-11  321.97\n",
       "270  1963-11-30  317.56\n",
       "278  1964-05-30  322.07\n",
       "280  1964-06-27  321.57\n",
       "286  1964-08-15  318.61\n",
       "386  1966-08-06  321.31\n",
       "399  1966-11-12  319.59\n",
       "409  1967-02-04  322.19\n",
       "899  1976-07-03  333.67\n",
       "1303 1984-04-28  347.57\n",
       "1369 1985-08-10  344.67\n",
       "2300 2003-06-21  377.28\n",
       "2316 2003-10-25  373.27\n",
       "2386 2005-03-26  380.54\n",
       "2432 2006-02-25  381.83\n",
       "2480 2007-02-03  383.06\n",
       "2776 2012-10-20  391.36\n",
       "3154 2020-01-25  413.29"
      ]
     },
     "execution_count": 14,
     "metadata": {},
     "output_type": "execute_result"
    }
   ],
   "source": [
    "#get approximate dates\n",
    "df.iloc[big_delta.index]"
   ]
  },
  {
   "cell_type": "markdown",
   "id": "bb77676e",
   "metadata": {},
   "source": [
    "**NOTES** There were a decent number of gaps up until 1967 and a few afterwards.  After consideration, instead of doing my own resampling and filling, I will use the already created product (produced by atmospheric PHDs at the Scripps program).\n",
    "\n",
    "**SWITCHING TO MONTHLY DATA**"
   ]
  },
  {
   "cell_type": "code",
   "execution_count": 15,
   "id": "56fb526b",
   "metadata": {},
   "outputs": [],
   "source": [
    "dfm = pd.read_csv(\"monthly_in_situ_co2_mlo_28JUN2022.csv\",header=54)"
   ]
  },
  {
   "cell_type": "code",
   "execution_count": 16,
   "id": "285d5089",
   "metadata": {},
   "outputs": [
    {
     "name": "stdout",
     "output_type": "stream",
     "text": [
      "<class 'pandas.core.frame.DataFrame'>\n",
      "RangeIndex: 782 entries, 0 to 781\n",
      "Data columns (total 10 columns):\n",
      " #   Column        Non-Null Count  Dtype \n",
      "---  ------        --------------  ----- \n",
      " 0     Yr          782 non-null    object\n",
      " 1    Mn           782 non-null    object\n",
      " 2       Date      782 non-null    object\n",
      " 3         Date    782 non-null    object\n",
      " 4        CO2      782 non-null    object\n",
      " 5   seasonally    782 non-null    object\n",
      " 6           fit   782 non-null    object\n",
      " 7     seasonally  782 non-null    object\n",
      " 8         CO2     782 non-null    object\n",
      " 9    seasonally   782 non-null    object\n",
      "dtypes: object(10)\n",
      "memory usage: 61.2+ KB\n"
     ]
    }
   ],
   "source": [
    "dfm.info()"
   ]
  },
  {
   "cell_type": "code",
   "execution_count": 17,
   "id": "7e57d3a9",
   "metadata": {},
   "outputs": [
    {
     "data": {
      "text/html": [
       "<div>\n",
       "<style scoped>\n",
       "    .dataframe tbody tr th:only-of-type {\n",
       "        vertical-align: middle;\n",
       "    }\n",
       "\n",
       "    .dataframe tbody tr th {\n",
       "        vertical-align: top;\n",
       "    }\n",
       "\n",
       "    .dataframe thead th {\n",
       "        text-align: right;\n",
       "    }\n",
       "</style>\n",
       "<table border=\"1\" class=\"dataframe\">\n",
       "  <thead>\n",
       "    <tr style=\"text-align: right;\">\n",
       "      <th></th>\n",
       "      <th>Yr</th>\n",
       "      <th>Mn</th>\n",
       "      <th>Date</th>\n",
       "      <th>Date</th>\n",
       "      <th>CO2</th>\n",
       "      <th>seasonally</th>\n",
       "      <th>fit</th>\n",
       "      <th>seasonally</th>\n",
       "      <th>CO2</th>\n",
       "      <th>seasonally</th>\n",
       "    </tr>\n",
       "  </thead>\n",
       "  <tbody>\n",
       "    <tr>\n",
       "      <th>0</th>\n",
       "      <td></td>\n",
       "      <td></td>\n",
       "      <td></td>\n",
       "      <td></td>\n",
       "      <td></td>\n",
       "      <td>adjusted</td>\n",
       "      <td></td>\n",
       "      <td>adjusted fit</td>\n",
       "      <td>filled</td>\n",
       "      <td>adjusted filled</td>\n",
       "    </tr>\n",
       "    <tr>\n",
       "      <th>1</th>\n",
       "      <td></td>\n",
       "      <td></td>\n",
       "      <td>Excel</td>\n",
       "      <td></td>\n",
       "      <td>[ppm]</td>\n",
       "      <td>[ppm]</td>\n",
       "      <td>[ppm]</td>\n",
       "      <td>[ppm]</td>\n",
       "      <td>[ppm]</td>\n",
       "      <td>[ppm]</td>\n",
       "    </tr>\n",
       "    <tr>\n",
       "      <th>2</th>\n",
       "      <td>1958</td>\n",
       "      <td>01</td>\n",
       "      <td>21200</td>\n",
       "      <td>1958.0411</td>\n",
       "      <td>-99.99</td>\n",
       "      <td>-99.99</td>\n",
       "      <td>-99.99</td>\n",
       "      <td>-99.99</td>\n",
       "      <td>-99.99</td>\n",
       "      <td>-99.99</td>\n",
       "    </tr>\n",
       "    <tr>\n",
       "      <th>3</th>\n",
       "      <td>1958</td>\n",
       "      <td>02</td>\n",
       "      <td>21231</td>\n",
       "      <td>1958.1260</td>\n",
       "      <td>-99.99</td>\n",
       "      <td>-99.99</td>\n",
       "      <td>-99.99</td>\n",
       "      <td>-99.99</td>\n",
       "      <td>-99.99</td>\n",
       "      <td>-99.99</td>\n",
       "    </tr>\n",
       "    <tr>\n",
       "      <th>4</th>\n",
       "      <td>1958</td>\n",
       "      <td>03</td>\n",
       "      <td>21259</td>\n",
       "      <td>1958.2027</td>\n",
       "      <td>315.71</td>\n",
       "      <td>314.44</td>\n",
       "      <td>316.20</td>\n",
       "      <td>314.91</td>\n",
       "      <td>315.71</td>\n",
       "      <td>314.44</td>\n",
       "    </tr>\n",
       "    <tr>\n",
       "      <th>5</th>\n",
       "      <td>1958</td>\n",
       "      <td>04</td>\n",
       "      <td>21290</td>\n",
       "      <td>1958.2877</td>\n",
       "      <td>317.45</td>\n",
       "      <td>315.16</td>\n",
       "      <td>317.30</td>\n",
       "      <td>314.99</td>\n",
       "      <td>317.45</td>\n",
       "      <td>315.16</td>\n",
       "    </tr>\n",
       "    <tr>\n",
       "      <th>6</th>\n",
       "      <td>1958</td>\n",
       "      <td>05</td>\n",
       "      <td>21320</td>\n",
       "      <td>1958.3699</td>\n",
       "      <td>317.51</td>\n",
       "      <td>314.70</td>\n",
       "      <td>317.87</td>\n",
       "      <td>315.07</td>\n",
       "      <td>317.51</td>\n",
       "      <td>314.70</td>\n",
       "    </tr>\n",
       "    <tr>\n",
       "      <th>7</th>\n",
       "      <td>1958</td>\n",
       "      <td>06</td>\n",
       "      <td>21351</td>\n",
       "      <td>1958.4548</td>\n",
       "      <td>-99.99</td>\n",
       "      <td>-99.99</td>\n",
       "      <td>317.26</td>\n",
       "      <td>315.15</td>\n",
       "      <td>317.26</td>\n",
       "      <td>315.15</td>\n",
       "    </tr>\n",
       "    <tr>\n",
       "      <th>8</th>\n",
       "      <td>1958</td>\n",
       "      <td>07</td>\n",
       "      <td>21381</td>\n",
       "      <td>1958.5370</td>\n",
       "      <td>315.87</td>\n",
       "      <td>315.20</td>\n",
       "      <td>315.86</td>\n",
       "      <td>315.22</td>\n",
       "      <td>315.87</td>\n",
       "      <td>315.20</td>\n",
       "    </tr>\n",
       "    <tr>\n",
       "      <th>9</th>\n",
       "      <td>1958</td>\n",
       "      <td>08</td>\n",
       "      <td>21412</td>\n",
       "      <td>1958.6219</td>\n",
       "      <td>314.93</td>\n",
       "      <td>316.21</td>\n",
       "      <td>313.98</td>\n",
       "      <td>315.29</td>\n",
       "      <td>314.93</td>\n",
       "      <td>316.21</td>\n",
       "    </tr>\n",
       "    <tr>\n",
       "      <th>10</th>\n",
       "      <td>1958</td>\n",
       "      <td>09</td>\n",
       "      <td>21443</td>\n",
       "      <td>1958.7068</td>\n",
       "      <td>313.21</td>\n",
       "      <td>316.10</td>\n",
       "      <td>312.44</td>\n",
       "      <td>315.35</td>\n",
       "      <td>313.21</td>\n",
       "      <td>316.10</td>\n",
       "    </tr>\n",
       "    <tr>\n",
       "      <th>11</th>\n",
       "      <td>1958</td>\n",
       "      <td>10</td>\n",
       "      <td>21473</td>\n",
       "      <td>1958.7890</td>\n",
       "      <td>-99.99</td>\n",
       "      <td>-99.99</td>\n",
       "      <td>312.43</td>\n",
       "      <td>315.41</td>\n",
       "      <td>312.43</td>\n",
       "      <td>315.41</td>\n",
       "    </tr>\n",
       "    <tr>\n",
       "      <th>12</th>\n",
       "      <td>1958</td>\n",
       "      <td>11</td>\n",
       "      <td>21504</td>\n",
       "      <td>1958.8740</td>\n",
       "      <td>313.33</td>\n",
       "      <td>315.21</td>\n",
       "      <td>313.61</td>\n",
       "      <td>315.46</td>\n",
       "      <td>313.33</td>\n",
       "      <td>315.21</td>\n",
       "    </tr>\n",
       "    <tr>\n",
       "      <th>13</th>\n",
       "      <td>1958</td>\n",
       "      <td>12</td>\n",
       "      <td>21534</td>\n",
       "      <td>1958.9562</td>\n",
       "      <td>314.67</td>\n",
       "      <td>315.43</td>\n",
       "      <td>314.76</td>\n",
       "      <td>315.51</td>\n",
       "      <td>314.67</td>\n",
       "      <td>315.43</td>\n",
       "    </tr>\n",
       "    <tr>\n",
       "      <th>14</th>\n",
       "      <td>1959</td>\n",
       "      <td>01</td>\n",
       "      <td>21565</td>\n",
       "      <td>1959.0411</td>\n",
       "      <td>315.58</td>\n",
       "      <td>315.52</td>\n",
       "      <td>315.64</td>\n",
       "      <td>315.57</td>\n",
       "      <td>315.58</td>\n",
       "      <td>315.52</td>\n",
       "    </tr>\n",
       "    <tr>\n",
       "      <th>15</th>\n",
       "      <td>1959</td>\n",
       "      <td>02</td>\n",
       "      <td>21596</td>\n",
       "      <td>1959.1260</td>\n",
       "      <td>316.49</td>\n",
       "      <td>315.84</td>\n",
       "      <td>316.29</td>\n",
       "      <td>315.63</td>\n",
       "      <td>316.49</td>\n",
       "      <td>315.84</td>\n",
       "    </tr>\n",
       "    <tr>\n",
       "      <th>16</th>\n",
       "      <td>1959</td>\n",
       "      <td>03</td>\n",
       "      <td>21624</td>\n",
       "      <td>1959.2027</td>\n",
       "      <td>316.65</td>\n",
       "      <td>315.37</td>\n",
       "      <td>316.99</td>\n",
       "      <td>315.69</td>\n",
       "      <td>316.65</td>\n",
       "      <td>315.37</td>\n",
       "    </tr>\n",
       "    <tr>\n",
       "      <th>17</th>\n",
       "      <td>1959</td>\n",
       "      <td>04</td>\n",
       "      <td>21655</td>\n",
       "      <td>1959.2877</td>\n",
       "      <td>317.72</td>\n",
       "      <td>315.42</td>\n",
       "      <td>318.09</td>\n",
       "      <td>315.77</td>\n",
       "      <td>317.72</td>\n",
       "      <td>315.42</td>\n",
       "    </tr>\n",
       "    <tr>\n",
       "      <th>18</th>\n",
       "      <td>1959</td>\n",
       "      <td>05</td>\n",
       "      <td>21685</td>\n",
       "      <td>1959.3699</td>\n",
       "      <td>318.29</td>\n",
       "      <td>315.48</td>\n",
       "      <td>318.66</td>\n",
       "      <td>315.85</td>\n",
       "      <td>318.29</td>\n",
       "      <td>315.48</td>\n",
       "    </tr>\n",
       "    <tr>\n",
       "      <th>19</th>\n",
       "      <td>1959</td>\n",
       "      <td>06</td>\n",
       "      <td>21716</td>\n",
       "      <td>1959.4548</td>\n",
       "      <td>318.15</td>\n",
       "      <td>316.02</td>\n",
       "      <td>318.06</td>\n",
       "      <td>315.94</td>\n",
       "      <td>318.15</td>\n",
       "      <td>316.02</td>\n",
       "    </tr>\n",
       "  </tbody>\n",
       "</table>\n",
       "</div>"
      ],
      "text/plain": [
       "      Yr   Mn      Date        Date        CO2  seasonally          fit  \\\n",
       "0                                                 adjusted                \n",
       "1                 Excel                  [ppm]      [ppm]         [ppm]   \n",
       "2   1958   01     21200   1958.0411     -99.99      -99.99       -99.99   \n",
       "3   1958   02     21231   1958.1260     -99.99      -99.99       -99.99   \n",
       "4   1958   03     21259   1958.2027     315.71      314.44       316.20   \n",
       "5   1958   04     21290   1958.2877     317.45      315.16       317.30   \n",
       "6   1958   05     21320   1958.3699     317.51      314.70       317.87   \n",
       "7   1958   06     21351   1958.4548     -99.99      -99.99       317.26   \n",
       "8   1958   07     21381   1958.5370     315.87      315.20       315.86   \n",
       "9   1958   08     21412   1958.6219     314.93      316.21       313.98   \n",
       "10  1958   09     21443   1958.7068     313.21      316.10       312.44   \n",
       "11  1958   10     21473   1958.7890     -99.99      -99.99       312.43   \n",
       "12  1958   11     21504   1958.8740     313.33      315.21       313.61   \n",
       "13  1958   12     21534   1958.9562     314.67      315.43       314.76   \n",
       "14  1959   01     21565   1959.0411     315.58      315.52       315.64   \n",
       "15  1959   02     21596   1959.1260     316.49      315.84       316.29   \n",
       "16  1959   03     21624   1959.2027     316.65      315.37       316.99   \n",
       "17  1959   04     21655   1959.2877     317.72      315.42       318.09   \n",
       "18  1959   05     21685   1959.3699     318.29      315.48       318.66   \n",
       "19  1959   06     21716   1959.4548     318.15      316.02       318.06   \n",
       "\n",
       "      seasonally           CO2       seasonally  \n",
       "0   adjusted fit        filled  adjusted filled  \n",
       "1          [ppm]         [ppm]            [ppm]  \n",
       "2         -99.99        -99.99           -99.99  \n",
       "3         -99.99        -99.99           -99.99  \n",
       "4         314.91        315.71           314.44  \n",
       "5         314.99        317.45           315.16  \n",
       "6         315.07        317.51           314.70  \n",
       "7         315.15        317.26           315.15  \n",
       "8         315.22        315.87           315.20  \n",
       "9         315.29        314.93           316.21  \n",
       "10        315.35        313.21           316.10  \n",
       "11        315.41        312.43           315.41  \n",
       "12        315.46        313.33           315.21  \n",
       "13        315.51        314.67           315.43  \n",
       "14        315.57        315.58           315.52  \n",
       "15        315.63        316.49           315.84  \n",
       "16        315.69        316.65           315.37  \n",
       "17        315.77        317.72           315.42  \n",
       "18        315.85        318.29           315.48  \n",
       "19        315.94        318.15           316.02  "
      ]
     },
     "execution_count": 17,
     "metadata": {},
     "output_type": "execute_result"
    }
   ],
   "source": [
    "dfm.head(20)"
   ]
  },
  {
   "cell_type": "markdown",
   "id": "59c40960",
   "metadata": {},
   "source": [
    "**Notes:** There are a number of options to choose from.  They filled missing data based off a 4-harmonic fit w/ linear gain and used that to get a smoothed dataset with no missing values.  I'd rather use values between the nearest observed values.  For that reason, I will be using Column 5, the monthly readings."
   ]
  },
  {
   "cell_type": "code",
   "execution_count": 18,
   "id": "24d6d8ce",
   "metadata": {},
   "outputs": [],
   "source": [
    "#since the dataframe is a mess, it's easier just to modify the import\n",
    "#drop header down 2, supply column names, only pull 2 date columns and desired co2\n",
    "dfm = pd.read_csv(\"monthly_in_situ_co2_mlo_28JUN2022.csv\",header=56,names=['yr','mn','co2'],usecols=[0,1,4])"
   ]
  },
  {
   "cell_type": "code",
   "execution_count": 19,
   "id": "09e40caf",
   "metadata": {},
   "outputs": [
    {
     "data": {
      "text/html": [
       "<div>\n",
       "<style scoped>\n",
       "    .dataframe tbody tr th:only-of-type {\n",
       "        vertical-align: middle;\n",
       "    }\n",
       "\n",
       "    .dataframe tbody tr th {\n",
       "        vertical-align: top;\n",
       "    }\n",
       "\n",
       "    .dataframe thead th {\n",
       "        text-align: right;\n",
       "    }\n",
       "</style>\n",
       "<table border=\"1\" class=\"dataframe\">\n",
       "  <thead>\n",
       "    <tr style=\"text-align: right;\">\n",
       "      <th></th>\n",
       "      <th>yr</th>\n",
       "      <th>mn</th>\n",
       "      <th>co2</th>\n",
       "    </tr>\n",
       "  </thead>\n",
       "  <tbody>\n",
       "    <tr>\n",
       "      <th>0</th>\n",
       "      <td>1958</td>\n",
       "      <td>1</td>\n",
       "      <td>-99.99</td>\n",
       "    </tr>\n",
       "    <tr>\n",
       "      <th>1</th>\n",
       "      <td>1958</td>\n",
       "      <td>2</td>\n",
       "      <td>-99.99</td>\n",
       "    </tr>\n",
       "    <tr>\n",
       "      <th>2</th>\n",
       "      <td>1958</td>\n",
       "      <td>3</td>\n",
       "      <td>315.71</td>\n",
       "    </tr>\n",
       "    <tr>\n",
       "      <th>3</th>\n",
       "      <td>1958</td>\n",
       "      <td>4</td>\n",
       "      <td>317.45</td>\n",
       "    </tr>\n",
       "    <tr>\n",
       "      <th>4</th>\n",
       "      <td>1958</td>\n",
       "      <td>5</td>\n",
       "      <td>317.51</td>\n",
       "    </tr>\n",
       "  </tbody>\n",
       "</table>\n",
       "</div>"
      ],
      "text/plain": [
       "     yr  mn     co2\n",
       "0  1958   1  -99.99\n",
       "1  1958   2  -99.99\n",
       "2  1958   3  315.71\n",
       "3  1958   4  317.45\n",
       "4  1958   5  317.51"
      ]
     },
     "execution_count": 19,
     "metadata": {},
     "output_type": "execute_result"
    }
   ],
   "source": [
    "dfm.head()"
   ]
  },
  {
   "cell_type": "code",
   "execution_count": 20,
   "id": "87a3209a",
   "metadata": {},
   "outputs": [
    {
     "name": "stdout",
     "output_type": "stream",
     "text": [
      "<class 'pandas.core.frame.DataFrame'>\n",
      "RangeIndex: 780 entries, 0 to 779\n",
      "Data columns (total 3 columns):\n",
      " #   Column  Non-Null Count  Dtype  \n",
      "---  ------  --------------  -----  \n",
      " 0   yr      780 non-null    int64  \n",
      " 1   mn      780 non-null    int64  \n",
      " 2   co2     780 non-null    float64\n",
      "dtypes: float64(1), int64(2)\n",
      "memory usage: 18.4 KB\n"
     ]
    }
   ],
   "source": [
    "dfm.info()"
   ]
  },
  {
   "cell_type": "code",
   "execution_count": 21,
   "id": "364a59e1",
   "metadata": {},
   "outputs": [
    {
     "name": "stdout",
     "output_type": "stream",
     "text": [
      "<class 'pandas.core.frame.DataFrame'>\n",
      "RangeIndex: 780 entries, 0 to 779\n",
      "Data columns (total 3 columns):\n",
      " #   Column  Non-Null Count  Dtype  \n",
      "---  ------  --------------  -----  \n",
      " 0   yr      780 non-null    object \n",
      " 1   mn      780 non-null    object \n",
      " 2   co2     780 non-null    float64\n",
      "dtypes: float64(1), object(2)\n",
      "memory usage: 18.4+ KB\n"
     ]
    }
   ],
   "source": [
    "#Convert to strings and pad if necessary\n",
    "dfm.yr = dfm.yr.astype(str)\n",
    "dfm.mn = dfm.mn.astype(str).str.zfill(2)\n",
    "dfm.info()"
   ]
  },
  {
   "cell_type": "code",
   "execution_count": 22,
   "id": "a816292f",
   "metadata": {},
   "outputs": [
    {
     "data": {
      "text/html": [
       "<div>\n",
       "<style scoped>\n",
       "    .dataframe tbody tr th:only-of-type {\n",
       "        vertical-align: middle;\n",
       "    }\n",
       "\n",
       "    .dataframe tbody tr th {\n",
       "        vertical-align: top;\n",
       "    }\n",
       "\n",
       "    .dataframe thead th {\n",
       "        text-align: right;\n",
       "    }\n",
       "</style>\n",
       "<table border=\"1\" class=\"dataframe\">\n",
       "  <thead>\n",
       "    <tr style=\"text-align: right;\">\n",
       "      <th></th>\n",
       "      <th>yr</th>\n",
       "      <th>mn</th>\n",
       "      <th>co2</th>\n",
       "      <th>date</th>\n",
       "    </tr>\n",
       "  </thead>\n",
       "  <tbody>\n",
       "    <tr>\n",
       "      <th>0</th>\n",
       "      <td>1958</td>\n",
       "      <td>01</td>\n",
       "      <td>-99.99</td>\n",
       "      <td>1958-01-15</td>\n",
       "    </tr>\n",
       "    <tr>\n",
       "      <th>1</th>\n",
       "      <td>1958</td>\n",
       "      <td>02</td>\n",
       "      <td>-99.99</td>\n",
       "      <td>1958-02-15</td>\n",
       "    </tr>\n",
       "    <tr>\n",
       "      <th>2</th>\n",
       "      <td>1958</td>\n",
       "      <td>03</td>\n",
       "      <td>315.71</td>\n",
       "      <td>1958-03-15</td>\n",
       "    </tr>\n",
       "    <tr>\n",
       "      <th>3</th>\n",
       "      <td>1958</td>\n",
       "      <td>04</td>\n",
       "      <td>317.45</td>\n",
       "      <td>1958-04-15</td>\n",
       "    </tr>\n",
       "    <tr>\n",
       "      <th>4</th>\n",
       "      <td>1958</td>\n",
       "      <td>05</td>\n",
       "      <td>317.51</td>\n",
       "      <td>1958-05-15</td>\n",
       "    </tr>\n",
       "    <tr>\n",
       "      <th>5</th>\n",
       "      <td>1958</td>\n",
       "      <td>06</td>\n",
       "      <td>-99.99</td>\n",
       "      <td>1958-06-15</td>\n",
       "    </tr>\n",
       "    <tr>\n",
       "      <th>6</th>\n",
       "      <td>1958</td>\n",
       "      <td>07</td>\n",
       "      <td>315.87</td>\n",
       "      <td>1958-07-15</td>\n",
       "    </tr>\n",
       "    <tr>\n",
       "      <th>7</th>\n",
       "      <td>1958</td>\n",
       "      <td>08</td>\n",
       "      <td>314.93</td>\n",
       "      <td>1958-08-15</td>\n",
       "    </tr>\n",
       "    <tr>\n",
       "      <th>8</th>\n",
       "      <td>1958</td>\n",
       "      <td>09</td>\n",
       "      <td>313.21</td>\n",
       "      <td>1958-09-15</td>\n",
       "    </tr>\n",
       "    <tr>\n",
       "      <th>9</th>\n",
       "      <td>1958</td>\n",
       "      <td>10</td>\n",
       "      <td>-99.99</td>\n",
       "      <td>1958-10-15</td>\n",
       "    </tr>\n",
       "    <tr>\n",
       "      <th>10</th>\n",
       "      <td>1958</td>\n",
       "      <td>11</td>\n",
       "      <td>313.33</td>\n",
       "      <td>1958-11-15</td>\n",
       "    </tr>\n",
       "    <tr>\n",
       "      <th>11</th>\n",
       "      <td>1958</td>\n",
       "      <td>12</td>\n",
       "      <td>314.67</td>\n",
       "      <td>1958-12-15</td>\n",
       "    </tr>\n",
       "    <tr>\n",
       "      <th>12</th>\n",
       "      <td>1959</td>\n",
       "      <td>01</td>\n",
       "      <td>315.58</td>\n",
       "      <td>1959-01-15</td>\n",
       "    </tr>\n",
       "  </tbody>\n",
       "</table>\n",
       "</div>"
      ],
      "text/plain": [
       "      yr  mn     co2        date\n",
       "0   1958  01  -99.99  1958-01-15\n",
       "1   1958  02  -99.99  1958-02-15\n",
       "2   1958  03  315.71  1958-03-15\n",
       "3   1958  04  317.45  1958-04-15\n",
       "4   1958  05  317.51  1958-05-15\n",
       "5   1958  06  -99.99  1958-06-15\n",
       "6   1958  07  315.87  1958-07-15\n",
       "7   1958  08  314.93  1958-08-15\n",
       "8   1958  09  313.21  1958-09-15\n",
       "9   1958  10  -99.99  1958-10-15\n",
       "10  1958  11  313.33  1958-11-15\n",
       "11  1958  12  314.67  1958-12-15\n",
       "12  1959  01  315.58  1959-01-15"
      ]
     },
     "execution_count": 22,
     "metadata": {},
     "output_type": "execute_result"
    }
   ],
   "source": [
    "#Get a date, set as middle of month\n",
    "dfm['date'] = dfm.yr + '-' + dfm.mn + '-15'\n",
    "dfm.head(13)"
   ]
  },
  {
   "cell_type": "code",
   "execution_count": 23,
   "id": "2ac4dfaf",
   "metadata": {},
   "outputs": [
    {
     "name": "stdout",
     "output_type": "stream",
     "text": [
      "<class 'pandas.core.frame.DataFrame'>\n",
      "RangeIndex: 780 entries, 0 to 779\n",
      "Data columns (total 4 columns):\n",
      " #   Column  Non-Null Count  Dtype  \n",
      "---  ------  --------------  -----  \n",
      " 0   yr      780 non-null    object \n",
      " 1   mn      780 non-null    object \n",
      " 2   co2     780 non-null    float64\n",
      " 3   date    780 non-null    object \n",
      "dtypes: float64(1), object(3)\n",
      "memory usage: 24.5+ KB\n"
     ]
    }
   ],
   "source": [
    "dfm.info()"
   ]
  },
  {
   "cell_type": "code",
   "execution_count": 24,
   "id": "2381b912",
   "metadata": {},
   "outputs": [
    {
     "name": "stdout",
     "output_type": "stream",
     "text": [
      "<class 'pandas.core.frame.DataFrame'>\n",
      "RangeIndex: 780 entries, 0 to 779\n",
      "Data columns (total 4 columns):\n",
      " #   Column  Non-Null Count  Dtype         \n",
      "---  ------  --------------  -----         \n",
      " 0   yr      780 non-null    object        \n",
      " 1   mn      780 non-null    object        \n",
      " 2   co2     780 non-null    float64       \n",
      " 3   date    780 non-null    datetime64[ns]\n",
      "dtypes: datetime64[ns](1), float64(1), object(2)\n",
      "memory usage: 24.5+ KB\n"
     ]
    }
   ],
   "source": [
    "dfm['date'] = pd.to_datetime(dfm.date,format=\"%Y-%m-%d\")\n",
    "dfm.info()"
   ]
  },
  {
   "cell_type": "code",
   "execution_count": 25,
   "id": "9dbbb5f7",
   "metadata": {},
   "outputs": [
    {
     "data": {
      "text/plain": [
       "31 days    454\n",
       "30 days    260\n",
       "28 days     49\n",
       "29 days     16\n",
       "Name: date, dtype: int64"
      ]
     },
     "execution_count": 25,
     "metadata": {},
     "output_type": "execute_result"
    }
   ],
   "source": [
    "#check gaps\n",
    "dfm.date.diff().value_counts()"
   ]
  },
  {
   "cell_type": "markdown",
   "id": "e388fff8",
   "metadata": {},
   "source": [
    "**Notes:** No month gaps"
   ]
  },
  {
   "cell_type": "code",
   "execution_count": 26,
   "id": "4d9dcf25",
   "metadata": {},
   "outputs": [
    {
     "name": "stdout",
     "output_type": "stream",
     "text": [
      "<class 'pandas.core.frame.DataFrame'>\n",
      "DatetimeIndex: 780 entries, 1958-01-15 to 2022-12-15\n",
      "Data columns (total 3 columns):\n",
      " #   Column  Non-Null Count  Dtype  \n",
      "---  ------  --------------  -----  \n",
      " 0   yr      780 non-null    object \n",
      " 1   mn      780 non-null    object \n",
      " 2   co2     780 non-null    float64\n",
      "dtypes: float64(1), object(2)\n",
      "memory usage: 24.4+ KB\n"
     ]
    }
   ],
   "source": [
    "#set as index\n",
    "dfm = dfm.set_index('date').sort_index()\n",
    "dfm.info()"
   ]
  },
  {
   "cell_type": "code",
   "execution_count": 27,
   "id": "9b0564ed",
   "metadata": {},
   "outputs": [
    {
     "data": {
      "text/plain": [
       "<AxesSubplot:>"
      ]
     },
     "execution_count": 27,
     "metadata": {},
     "output_type": "execute_result"
    },
    {
     "data": {
      "image/png": "[encoded data removed]",
      "text/plain": [
       "<Figure size 432x288 with 1 Axes>"
      ]
     },
     "metadata": {
      "needs_background": "light"
     },
     "output_type": "display_data"
    }
   ],
   "source": [
    "#check values\n",
    "dfm.co2.hist()"
   ]
  },
  {
   "cell_type": "markdown",
   "id": "229d7602",
   "metadata": {},
   "source": [
    "**Notes:** Per metadata, -99 indicates null values"
   ]
  },
  {
   "cell_type": "code",
   "execution_count": 29,
   "id": "8cf04c0a",
   "metadata": {},
   "outputs": [
    {
     "data": {
      "text/html": [
       "<div>\n",
       "<style scoped>\n",
       "    .dataframe tbody tr th:only-of-type {\n",
       "        vertical-align: middle;\n",
       "    }\n",
       "\n",
       "    .dataframe tbody tr th {\n",
       "        vertical-align: top;\n",
       "    }\n",
       "\n",
       "    .dataframe thead th {\n",
       "        text-align: right;\n",
       "    }\n",
       "</style>\n",
       "<table border=\"1\" class=\"dataframe\">\n",
       "  <thead>\n",
       "    <tr style=\"text-align: right;\">\n",
       "      <th></th>\n",
       "      <th>yr</th>\n",
       "      <th>mn</th>\n",
       "      <th>co2</th>\n",
       "    </tr>\n",
       "    <tr>\n",
       "      <th>date</th>\n",
       "      <th></th>\n",
       "      <th></th>\n",
       "      <th></th>\n",
       "    </tr>\n",
       "  </thead>\n",
       "  <tbody>\n",
       "    <tr>\n",
       "      <th>1958-01-15</th>\n",
       "      <td>1958</td>\n",
       "      <td>01</td>\n",
       "      <td>-99.99</td>\n",
       "    </tr>\n",
       "    <tr>\n",
       "      <th>1958-02-15</th>\n",
       "      <td>1958</td>\n",
       "      <td>02</td>\n",
       "      <td>-99.99</td>\n",
       "    </tr>\n",
       "    <tr>\n",
       "      <th>1958-06-15</th>\n",
       "      <td>1958</td>\n",
       "      <td>06</td>\n",
       "      <td>-99.99</td>\n",
       "    </tr>\n",
       "    <tr>\n",
       "      <th>1958-10-15</th>\n",
       "      <td>1958</td>\n",
       "      <td>10</td>\n",
       "      <td>-99.99</td>\n",
       "    </tr>\n",
       "    <tr>\n",
       "      <th>1964-02-15</th>\n",
       "      <td>1964</td>\n",
       "      <td>02</td>\n",
       "      <td>-99.99</td>\n",
       "    </tr>\n",
       "    <tr>\n",
       "      <th>1964-03-15</th>\n",
       "      <td>1964</td>\n",
       "      <td>03</td>\n",
       "      <td>-99.99</td>\n",
       "    </tr>\n",
       "    <tr>\n",
       "      <th>1964-04-15</th>\n",
       "      <td>1964</td>\n",
       "      <td>04</td>\n",
       "      <td>-99.99</td>\n",
       "    </tr>\n",
       "    <tr>\n",
       "      <th>2022-06-15</th>\n",
       "      <td>2022</td>\n",
       "      <td>06</td>\n",
       "      <td>-99.99</td>\n",
       "    </tr>\n",
       "    <tr>\n",
       "      <th>2022-07-15</th>\n",
       "      <td>2022</td>\n",
       "      <td>07</td>\n",
       "      <td>-99.99</td>\n",
       "    </tr>\n",
       "    <tr>\n",
       "      <th>2022-08-15</th>\n",
       "      <td>2022</td>\n",
       "      <td>08</td>\n",
       "      <td>-99.99</td>\n",
       "    </tr>\n",
       "    <tr>\n",
       "      <th>2022-09-15</th>\n",
       "      <td>2022</td>\n",
       "      <td>09</td>\n",
       "      <td>-99.99</td>\n",
       "    </tr>\n",
       "    <tr>\n",
       "      <th>2022-10-15</th>\n",
       "      <td>2022</td>\n",
       "      <td>10</td>\n",
       "      <td>-99.99</td>\n",
       "    </tr>\n",
       "    <tr>\n",
       "      <th>2022-11-15</th>\n",
       "      <td>2022</td>\n",
       "      <td>11</td>\n",
       "      <td>-99.99</td>\n",
       "    </tr>\n",
       "    <tr>\n",
       "      <th>2022-12-15</th>\n",
       "      <td>2022</td>\n",
       "      <td>12</td>\n",
       "      <td>-99.99</td>\n",
       "    </tr>\n",
       "  </tbody>\n",
       "</table>\n",
       "</div>"
      ],
      "text/plain": [
       "              yr  mn    co2\n",
       "date                       \n",
       "1958-01-15  1958  01 -99.99\n",
       "1958-02-15  1958  02 -99.99\n",
       "1958-06-15  1958  06 -99.99\n",
       "1958-10-15  1958  10 -99.99\n",
       "1964-02-15  1964  02 -99.99\n",
       "1964-03-15  1964  03 -99.99\n",
       "1964-04-15  1964  04 -99.99\n",
       "2022-06-15  2022  06 -99.99\n",
       "2022-07-15  2022  07 -99.99\n",
       "2022-08-15  2022  08 -99.99\n",
       "2022-09-15  2022  09 -99.99\n",
       "2022-10-15  2022  10 -99.99\n",
       "2022-11-15  2022  11 -99.99\n",
       "2022-12-15  2022  12 -99.99"
      ]
     },
     "execution_count": 29,
     "metadata": {},
     "output_type": "execute_result"
    }
   ],
   "source": [
    "dfm[dfm.co2==-99.99]"
   ]
  },
  {
   "cell_type": "markdown",
   "id": "b352b268",
   "metadata": {},
   "source": [
    "**NOTES:** Looking at where the missing values are, we can definitely drop the last few rows (for dates that haven't happened yet).  Normally I would want to keep the 1958-1964 data, and I would impute the values by taking the average of the prior and next value.  However, multiple of those have multi-month gaps, so I am instead choosing to just drop those 6 years. "
   ]
  },
  {
   "cell_type": "code",
   "execution_count": 31,
   "id": "2f3cab1e",
   "metadata": {},
   "outputs": [],
   "source": [
    "dfm = dfm['1964-05':'2022-05']"
   ]
  },
  {
   "cell_type": "code",
   "execution_count": 32,
   "id": "c3124467",
   "metadata": {},
   "outputs": [
    {
     "data": {
      "text/plain": [
       "<AxesSubplot:>"
      ]
     },
     "execution_count": 32,
     "metadata": {},
     "output_type": "execute_result"
    },
    {
     "data": {
      "image/png": "[encoded data removed]",
      "text/plain": [
       "<Figure size 432x288 with 1 Axes>"
      ]
     },
     "metadata": {
      "needs_background": "light"
     },
     "output_type": "display_data"
    }
   ],
   "source": [
    "dfm.co2.hist()"
   ]
  },
  {
   "cell_type": "markdown",
   "id": "59d38ea7",
   "metadata": {},
   "source": [
    "### Preparation Action Summary:\n",
    "- Pull in only a subset of the csv\n",
    "- convert yr and month to strings\n",
    "- pad month to assist in datetime conversion\n",
    "- Convert date column to datetime\n",
    "- Set as index and sort\n",
    "- Remove nulls by shortening time series"
   ]
  },
  {
   "cell_type": "markdown",
   "id": "492f9f3e",
   "metadata": {},
   "source": [
    "##### Drop steps into a function"
   ]
  },
  {
   "cell_type": "code",
   "execution_count": 33,
   "id": "33e1af4f",
   "metadata": {},
   "outputs": [],
   "source": [
    "def get_CO2_data():\n",
    "    '''\n",
    "    This function acquires and preps Mauna Loa CO2. Data must first exist in a csv in the working directory.\n",
    "    Returns a dataframe with a datetime index and a single CO2 column.\n",
    "    Assumes using file downloaded on 28JUN2022 that contains data through the end of May\n",
    "    \n",
    "    Returns: Pandas Dataframe\n",
    "    '''\n",
    "    #read csv\n",
    "    dfm = pd.read_csv(\"monthly_in_situ_co2_mlo_28JUN2022.csv\",header=56,names=['yr','mn','co2'],usecols=[0,1,4])\n",
    "    #Convert to strings and pad if necessary\n",
    "    dfm.yr = dfm.yr.astype(str)\n",
    "    dfm.mn = dfm.mn.astype(str).str.zfill(2)\n",
    "    #create date column\n",
    "    dfm['date'] = dfm.yr + '-' + dfm.mn + '-15'\n",
    "    #convert date column to datetime format\n",
    "    dfm['date'] = pd.to_datetime(dfm.date,format=\"%Y-%m-%d\")\n",
    "    #set date column as index and sort\n",
    "    dfm = dfm.set_index('date').sort_index()\n",
    "    #drop the null months which are on the edges\n",
    "    dfm = dfm['1964-05':'2022-05']\n",
    "    return dfm"
   ]
  },
  {
   "cell_type": "code",
   "execution_count": 34,
   "id": "5200f035",
   "metadata": {},
   "outputs": [
    {
     "name": "stdout",
     "output_type": "stream",
     "text": [
      "<class 'pandas.core.frame.DataFrame'>\n",
      "DatetimeIndex: 697 entries, 1964-05-15 to 2022-05-15\n",
      "Data columns (total 3 columns):\n",
      " #   Column  Non-Null Count  Dtype  \n",
      "---  ------  --------------  -----  \n",
      " 0   yr      697 non-null    object \n",
      " 1   mn      697 non-null    object \n",
      " 2   co2     697 non-null    float64\n",
      "dtypes: float64(1), object(2)\n",
      "memory usage: 21.8+ KB\n"
     ]
    }
   ],
   "source": [
    "#test function\n",
    "df2 = get_CO2_data()\n",
    "df2.info()"
   ]
  },
  {
   "cell_type": "code",
   "execution_count": 35,
   "id": "cade9633",
   "metadata": {},
   "outputs": [
    {
     "data": {
      "text/plain": [
       "<AxesSubplot:xlabel='date'>"
      ]
     },
     "execution_count": 35,
     "metadata": {},
     "output_type": "execute_result"
    },
    {
     "data": {
      "image/png": "[encoded data removed]",
      "text/plain": [
       "<Figure size 432x288 with 1 Axes>"
      ]
     },
     "metadata": {
      "needs_background": "light"
     },
     "output_type": "display_data"
    }
   ],
   "source": [
    "df2.co2.plot()"
   ]
  },
  {
   "cell_type": "markdown",
   "id": "622c58ea",
   "metadata": {},
   "source": [
    "# OTHER NOTES\n",
    "\n",
    "SPLIT CHOICES:\n",
    "- Use only most recent 20 or 30 years for analysis\n",
    "  - do 5 year splits for validate and train\n",
    "\n",
    "##### Using Data downloaded day of  **TIME PERMITTING** - FUTURE CONSIDERATIONS\n",
    "\n",
    "Things to consider:\n",
    "- Does/can the metadata change\n",
    "  - May Change Header start line\n",
    "  - Header line may still start with \"% Yr\" however metadata itself has that in it\n",
    "    - So maybe use col 1 == \"% Yr\" and col 2 == \"Mn\"\n",
    "    - % seems to indicate non data rows.  So maybe I can somehow use that to find last % line, which is header line\n",
    "- Time split\n",
    "  - Would need to not hard code any dates\n",
    "    - All relative\n",
    "  - Would need an appropriate split\n",
    "    - T - X years\n",
    "  - If seasonality chooses full years, would need to handle that as well\n",
    "- Date\n",
    "  - Would want to pull date (of download), but could just use last reading date\n",
    "\n",
    "\n"
   ]
  }
 ],
 "metadata": {
  "kernelspec": {
   "display_name": "Python 3 (ipykernel)",
   "language": "python",
   "name": "python3"
  },
  "language_info": {
   "codemirror_mode": {
    "name": "ipython",
    "version": 3
   },
   "file_extension": ".py",
   "mimetype": "text/x-python",
   "name": "python",
   "nbconvert_exporter": "python",
   "pygments_lexer": "ipython3",
   "version": "3.9.7"
  }
 },
 "nbformat": 4,
 "nbformat_minor": 5
}
