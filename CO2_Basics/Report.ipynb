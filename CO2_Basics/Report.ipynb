{
 "cells": [
  {
   "cell_type": "markdown",
   "id": "e802c8a1",
   "metadata": {},
   "source": [
    "- Mauna Loa is the Longest continuous CO2 readings\n",
    "- (Opt) insert 400 year plot\n"
   ]
  },
  {
   "cell_type": "markdown",
   "id": "e771a682",
   "metadata": {},
   "source": [
    "**Final plot:**\n",
    "- show the predictions\n",
    "- add lines for:\n",
    "  - hansen testimony\n",
    "  - today\n",
    "  - ppm for 2 degrees\n",
    "  - ppm for 3 degrees\n",
    "  - ppm for 4 degrees"
   ]
  }
 ],
 "metadata": {
  "kernelspec": {
   "display_name": "Python 3 (ipykernel)",
   "language": "python",
   "name": "python3"
  },
  "language_info": {
   "codemirror_mode": {
    "name": "ipython",
    "version": 3
   },
   "file_extension": ".py",
   "mimetype": "text/x-python",
   "name": "python",
   "nbconvert_exporter": "python",
   "pygments_lexer": "ipython3",
   "version": "3.9.7"
  }
 },
 "nbformat": 4,
 "nbformat_minor": 5
}
