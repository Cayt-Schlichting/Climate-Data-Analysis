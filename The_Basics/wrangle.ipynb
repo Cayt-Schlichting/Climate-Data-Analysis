{
 "cells": [
  {
   "cell_type": "markdown",
   "id": "530a901a",
   "metadata": {},
   "source": [
    "This notebook is intended to look into the CO2 readings from the Mauna Loa Observatory, provided by the [Scripps CO2 Program](https://scrippsco2.ucsd.edu/data/atmospheric_co2/mlo.html).\n",
    "\n",
    "https://scrippsco2.ucsd.edu/assets/data/atmospheric/stations/in_situ_co2/daily/daily_in_situ_co2_mlo.csv"
   ]
  },
  {
   "cell_type": "code",
   "execution_count": null,
   "id": "234a3acd",
   "metadata": {},
   "outputs": [],
   "source": [
    "import numpy as np\n",
    "import pandas as pd\n",
    "\n",
    "import matplotlib.pyplot as plt\n",
    "import seaborn as sns"
   ]
  },
  {
   "cell_type": "markdown",
   "id": "ccab4d3b",
   "metadata": {},
   "source": [
    "## Acquisition"
   ]
  },
  {
   "cell_type": "markdown",
   "id": "357ac55f",
   "metadata": {},
   "source": [
    "##### Using Data downloaded on 28JUN2022"
   ]
  },
  {
   "cell_type": "code",
   "execution_count": null,
   "id": "faac29c6",
   "metadata": {},
   "outputs": [],
   "source": [
    "#glancing at the CSV, the header starts on line 34 (only metadata above)"
   ]
  }
 ],
 "metadata": {
  "kernelspec": {
   "display_name": "Python 3 (ipykernel)",
   "language": "python",
   "name": "python3"
  },
  "language_info": {
   "codemirror_mode": {
    "name": "ipython",
    "version": 3
   },
   "file_extension": ".py",
   "mimetype": "text/x-python",
   "name": "python",
   "nbconvert_exporter": "python",
   "pygments_lexer": "ipython3",
   "version": "3.9.7"
  }
 },
 "nbformat": 4,
 "nbformat_minor": 5
}
