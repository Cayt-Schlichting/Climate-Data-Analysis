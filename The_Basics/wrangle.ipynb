{
 "cells": [
  {
   "cell_type": "markdown",
   "id": "6e0830a6",
   "metadata": {},
   "source": [
    "This notebook is intended to look into the CO2 readings from the Mauna Loa Observatory, provided by the [Scripps CO2 Program](https://scrippsco2.ucsd.edu/data/atmospheric_co2/mlo.html).\n",
    "\n",
    "https://scrippsco2.ucsd.edu/assets/data/atmospheric/stations/in_situ_co2/daily/daily_in_situ_co2_mlo.csv"
   ]
  },
  {
   "cell_type": "code",
   "execution_count": 2,
   "id": "3db9c094",
   "metadata": {},
   "outputs": [],
   "source": [
    "import numpy as np\n",
    "import pandas as pd\n",
    "\n",
    "import matplotlib.pyplot as plt\n",
    "import seaborn as sns"
   ]
  },
  {
   "cell_type": "markdown",
   "id": "01849727",
   "metadata": {},
   "source": [
    "## Acquisition\n",
    "\n",
    "# TO DO: MAKE DECISION AND MOVE ON\n",
    "\n",
    "OPTIONS:\n",
    "- Include CSV\n",
    "- Download directly:\n",
    "  - Cut to today's snapshot\n",
    "    - Would need to handle future header changes\n",
    "  - Use entire file\n",
    "    - My preferred - sort of - for general plots?"
   ]
  },
  {
   "cell_type": "markdown",
   "id": "5aa3739f",
   "metadata": {},
   "source": [
    "##### Using Data downloaded on 28JUN2022\n"
   ]
  },
  {
   "cell_type": "code",
   "execution_count": 3,
   "id": "ddb5f212",
   "metadata": {},
   "outputs": [],
   "source": [
    "#glancing at the CSV, the header starts on line 34 (only metadata above)\n",
    "df = pd.read_csv(\"daily_in_situ_co2_mlo_28JUN2022.csv\",header=33)"
   ]
  },
  {
   "cell_type": "code",
   "execution_count": 6,
   "id": "f0f5d87d",
   "metadata": {},
   "outputs": [
    {
     "name": "stdout",
     "output_type": "stream",
     "text": [
      "<class 'pandas.core.frame.DataFrame'>\n",
      "RangeIndex: 23557 entries, 0 to 23556\n",
      "Data columns (total 6 columns):\n",
      " #   Column   Non-Null Count  Dtype  \n",
      "---  ------   --------------  -----  \n",
      " 0   % Yr     23557 non-null  int64  \n",
      " 1    Mn      23557 non-null  int64  \n",
      " 2    Dy      23557 non-null  int64  \n",
      " 3       CO2  23557 non-null  object \n",
      " 4    NB      23557 non-null  object \n",
      " 5    scale   23557 non-null  float64\n",
      "dtypes: float64(1), int64(3), object(2)\n",
      "memory usage: 1.1+ MB\n"
     ]
    }
   ],
   "source": [
    "df.info() #23557 - grabs headers"
   ]
  },
  {
   "cell_type": "code",
   "execution_count": 7,
   "id": "4a8961b7",
   "metadata": {},
   "outputs": [
    {
     "name": "stdout",
     "output_type": "stream",
     "text": [
      "<class 'pandas.core.frame.DataFrame'>\n",
      "RangeIndex: 23556 entries, 0 to 23555\n",
      "Data columns (total 6 columns):\n",
      " #   Column   Non-Null Count  Dtype  \n",
      "---  ------   --------------  -----  \n",
      " 0   1958     23556 non-null  int64  \n",
      " 1    01      23556 non-null  int64  \n",
      " 2    01.1    23556 non-null  int64  \n",
      " 3       NaN  23556 non-null  object \n",
      " 4     0      23556 non-null  object \n",
      " 5    12.0    23556 non-null  float64\n",
      "dtypes: float64(1), int64(3), object(2)\n",
      "memory usage: 1.1+ MB\n"
     ]
    }
   ],
   "source": [
    "df2 = pd.read_csv(\"daily_in_situ_co2_mlo_28JUN2022.csv\",comment=\"%\")\n",
    "df2.info() #23356 - no headers"
   ]
  },
  {
   "cell_type": "markdown",
   "id": "39dab366",
   "metadata": {},
   "source": [
    "### NEED TO BE ABLE TO GRAB HEADERS AND SKIP THOSE COMMENTS\n"
   ]
  },
  {
   "cell_type": "markdown",
   "id": "597cf13d",
   "metadata": {},
   "source": [
    "##### Using Data downloaded day of  **TIME PERMITTING**\n",
    "\n",
    "Things to consider:\n",
    "- Does/can the metadata change\n",
    "  - May Change Header start line\n",
    "  - Header line may still start with \"% Yr\" however metadata itself has that in it\n",
    "    - So maybe use col 1 == \"% Yr\" and col 2 == \"Mn\"\n",
    "    - % seems to indicate non data rows.  So maybe I can somehow use that to find last % line, which is header line\n",
    "- Time split\n",
    "  - Would need to not hard code any dates\n",
    "    - All relative\n",
    "  - Would need an appropriate split\n",
    "    - T - X years\n",
    "  - If seasonality chooses full years, would need to handle that as well\n",
    "- Date\n",
    "  - Would want to pull date (of download), but could just use last reading date\n",
    "\n",
    "**Direct Link to csv:** https://scrippsco2.ucsd.edu/assets/data/atmospheric/stations/in_situ_co2/daily/daily_in_situ_co2_mlo.csv\n"
   ]
  }
 ],
 "metadata": {
  "kernelspec": {
   "display_name": "Python 3 (ipykernel)",
   "language": "python",
   "name": "python3"
  },
  "language_info": {
   "codemirror_mode": {
    "name": "ipython",
    "version": 3
   },
   "file_extension": ".py",
   "mimetype": "text/x-python",
   "name": "python",
   "nbconvert_exporter": "python",
   "pygments_lexer": "ipython3",
   "version": "3.9.7"
  }
 },
 "nbformat": 4,
 "nbformat_minor": 5
}
